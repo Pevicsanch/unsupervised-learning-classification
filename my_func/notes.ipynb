{
 "cells": [
  {
   "cell_type": "code",
   "execution_count": null,
   "metadata": {},
   "outputs": [],
   "source": [
    "# as the column \"year\" have just one value, we are going to drop it.\n",
    "df.drop([\"Year\"], axis=1, inplace=True)\n"
   ]
  },
  {
   "cell_type": "code",
   "execution_count": null,
   "metadata": {},
   "outputs": [],
   "source": [
    "# changing types:\n",
    "df[['DepTime', 'ArrTime']] = df[['DepTime', 'ArrTime']].astype(int)\n",
    "\n",
    "# to_change changing type from \"objet\" to \"category\"\n",
    "to_change = [\"Month\", \"DayofMonth\", \"DayOfWeek\", \"FlightNum\", \"Origin\",\n",
    "             \"Dest\", \"TailNum\", \"UniqueCarrier\", \"CancellationCode\", \"Cancelled\", \"Diverted\"]\n",
    "\n",
    "for x in to_change:\n",
    "    df[x] = df[x].astype(\"category\")\n",
    "\n",
    "to_date = [\"CRSArrTime\", \"CRSDepTime\", \"DepTime\", \"ArrTime\"]\n",
    "\n",
    "# to_date changing type to date\n",
    "\n",
    "for x in to_date:\n",
    "    df[x] = df[x].astype(str).str.zfill(4)\n",
    "    df[x] = df[x].astype(str).str[:2] + ':' + df[x].astype(str).str[2:] + ':00'\n",
    "    df.loc[df[x] == \"24:00:00\", x] = \"00:00:00\"\n",
    "    df[x] = pd.to_datetime(df[x], format=\"%H:%M:%S\").dt.time\n"
   ]
  },
  {
   "cell_type": "code",
   "execution_count": null,
   "metadata": {},
   "outputs": [],
   "source": [
    "# where on time or delay new column\n",
    "# where delayed = 1\n",
    "# and on time = 0\n",
    "\n",
    "df['with_delay'] = np.where(df['ArrDelay'] > 0, 1, 0)\n",
    "df['with_delay'] = df['with_delay'].astype(\"category\")\n"
   ]
  },
  {
   "cell_type": "code",
   "execution_count": null,
   "metadata": {},
   "outputs": [],
   "source": [
    "# let's drop the columns of Delays that are not ArrDelay, because ArrDelay is the sum of all others\n",
    "df = df.drop(['CarrierDelay', 'WeatherDelay', 'NASDelay',\n",
    "             'SecurityDelay', 'LateAircraftDelay'], axis=1)\n"
   ]
  },
  {
   "cell_type": "code",
   "execution_count": null,
   "metadata": {},
   "outputs": [],
   "source": [
    "# keep values cancelled ==1 (flights cancelled) in a diferent dataframe.\n",
    "df_cancelled = df.loc[df['Cancelled'] == 1]\n",
    "# keep values diverted ==1 (flights diverted) in a diferent dataframe.\n",
    "df_diverted = df.loc[df['Diverted'] == 1]\n",
    "\n",
    "# New dataframe with out cancelled diverted and ontime values\n",
    "df_analisys = df.loc[(df['Cancelled'] == 0) & (\n",
    "    df['Diverted'] == 0) & (df['with_delay'] == 1)].copy()\n",
    "# clean memory\n",
    "del df\n"
   ]
  },
  {
   "cell_type": "code",
   "execution_count": null,
   "metadata": {},
   "outputs": [],
   "source": [
    "# As we aren't going to use it, we can drop \"Cacelled\",\"CancellationCode\",\"Diverted\",\"with_delayt\" columns from our new dataframe\n",
    "df_analisys.drop(columns=[\"Cancelled\", \"CancellationCode\",\n",
    "                 \"Diverted\", \"with_delay\"], inplace=True)\n"
   ]
  },
  {
   "cell_type": "code",
   "execution_count": null,
   "metadata": {},
   "outputs": [],
   "source": [
    "# filter numerical features\n",
    "num_features = df_analisys.select_dtypes(exclude=[\"category\"])\n"
   ]
  },
  {
   "cell_type": "code",
   "execution_count": null,
   "metadata": {},
   "outputs": [],
   "source": [
    "# check for null values\"\n",
    "num_features.isnull().sum()\n"
   ]
  },
  {
   "cell_type": "code",
   "execution_count": null,
   "metadata": {},
   "outputs": [],
   "source": [
    "# Cyclical features encoding: converting the original time to their corresponding cosine and sine values\n",
    "to_transform = [\"DepTime\", \"CRSDepTime\", \"ArrTime\", \"CRSArrTime\"]\n",
    "\n",
    "for column in to_transform:\n",
    "    num_features[[f'h_{column}', f'm_{column}', f's_{column}']] = num_features[column].astype(\n",
    "        str).str.split(':', expand=True).astype(int)\n",
    "    num_features.drop([f's_{column}'], axis=1, inplace=True)\n",
    "    num_features[f'x_{column}'] = num_features[f'h_{column}'] * \\\n",
    "        60 + num_features[f'm_{column}']\n",
    "    num_features.drop([f'h_{column}'], axis=1, inplace=True)\n",
    "    num_features.drop([f'm_{column}'], axis=1, inplace=True)\n",
    "    num_features[f'x_{column}'] = 2 * math.pi * \\\n",
    "        num_features[f'x_{column}'] / num_features[f'x_{column}'].max()\n",
    "    num_features[f\"cos_{column}\"] = np.cos(num_features[f'x_{column}'])\n",
    "    num_features[f\"sin_{column}\"] = np.sin(num_features[f'x_{column}'])\n",
    "    num_features.drop([f'x_{column}'], axis=1, inplace=True)\n",
    "    num_features.drop([column], axis=1, inplace=True)\n"
   ]
  },
  {
   "cell_type": "code",
   "execution_count": null,
   "metadata": {},
   "outputs": [],
   "source": [
    "# keep label of the airlines\n",
    "num_features[\"true_label_names\"] = df_analisys[\"UniqueCarrier\"]\n"
   ]
  },
  {
   "cell_type": "code",
   "execution_count": null,
   "metadata": {},
   "outputs": [],
   "source": [
    "# create a label encoder obj-\n",
    "label_encoder = LabelEncoder()\n",
    "true_labels = label_encoder.fit_transform(num_features[\"true_label_names\"])\n",
    "# keep true labels\n",
    "num_features[\"true_labels\"] = true_labels\n"
   ]
  },
  {
   "cell_type": "code",
   "execution_count": null,
   "metadata": {},
   "outputs": [],
   "source": [
    "sns.set_context(\"talk\")\n",
    "plt.style.use('ggplot')\n",
    "\n",
    "fig, axes = plt.subplots(nrows=1, ncols=2, figsize=(20, 10))\n",
    "\n",
    "pd.crosstab(data[\"kmeans_3_RobustScaler\"], data[\"true_label_names\"]).T.plot.bar(stacked=True,ax=axes[0])\n",
    "axes[0].legend(bbox_to_anchor=(1.05, 1), loc=2, borderaxespad=0.0,fontsize = 'small')\n",
    "axes[0].set_title(\"Unique carriers 3 cluster\\n(With RobusScaler)\")\n",
    "\n",
    "pd.crosstab(data[\"kmeans_3_StandardScaler\"], data[\"true_label_names\"]).T.plot.bar(stacked=True,ax=axes[1])\n",
    "axes[1].legend(bbox_to_anchor=(1.05, 1), loc=2, borderaxespad=0.0,fontsize = 'small')\n",
    "axes[1].set_title(\"Unique carriers 3 cluster\\n(With StandarScaler)\")\n",
    "\n",
    "plt.tight_layout()\n",
    "plt.show()"
   ]
  },
  {
   "cell_type": "code",
   "execution_count": null,
   "metadata": {},
   "outputs": [],
   "source": []
  }
 ],
 "metadata": {
  "language_info": {
   "name": "python"
  },
  "orig_nbformat": 4
 },
 "nbformat": 4,
 "nbformat_minor": 2
}
